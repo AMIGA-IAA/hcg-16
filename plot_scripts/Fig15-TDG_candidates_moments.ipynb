{
 "cells": [
  {
   "cell_type": "code",
   "execution_count": null,
   "metadata": {},
   "outputs": [],
   "source": [
    "import matplotlib,aplpy\n",
    "from astropy.io import fits\n",
    "from general_functions import *\n",
    "import matplotlib.pyplot as plt"
   ]
  },
  {
   "cell_type": "code",
   "execution_count": null,
   "metadata": {},
   "outputs": [],
   "source": [
    "font = {'size'   : 14, 'family' : 'serif', 'serif' : 'cm'}\n",
    "plt.rc('font', **font)\n",
    "plt.rcParams['image.interpolation'] = 'nearest'\n",
    "plt.rcParams['lines.linewidth'] = 1\n",
    "plt.rcParams['axes.linewidth'] = 1\n",
    "\n",
    "#Set to true to save pdf versions of figures\n",
    "save_figs = True"
   ]
  },
  {
   "cell_type": "markdown",
   "metadata": {},
   "source": [
    "The files used to make the following plot are:"
   ]
  },
  {
   "cell_type": "code",
   "execution_count": null,
   "metadata": {},
   "outputs": [],
   "source": [
    "r_image_decals = 'HCG16_DECaLS_r_cutout.fits'\n",
    "grz_image_decals = 'HCG16_DECaLS_cutout.jpeg'\n",
    "obj_list = ['NW_clump','E_clump','S_clump']\n",
    "#+'_mom0th.fits' or +'_mom1st.fits'"
   ]
  },
  {
   "cell_type": "markdown",
   "metadata": {},
   "source": [
    "1. An $r$-band DECaLS fits image of HCG 16.\n",
    "2. A combined $grz$ jpeg image from DECaLS covering exactly the same field.\n",
    "\n",
    "These files were downloaded directly from the [DECaLS public website](http://legacysurvey.org/). The exact parameters defining the region and pixel size of these images is contained in the [pipeline.yml](pipeline.yml) file.\n",
    "\n",
    "3. Moment 0 and 1 maps of each candidate tidal dwarf galaxy.\n",
    "\n",
    "The moment 0 and 1 maps of the galaxies were generated in the *imaging* step of the workflow using CASA. The exact steps are included in the [imaging.py](casa/imaging.py) script. The masks used to make these moment maps were constructed manually using the [SlicerAstro](http://github.com/Punzo/SlicerAstro) software package. They were downloaded along with the raw data from the EUDAT service [B2SHARE](http://b2share.eudat.eu) at the beginnning of the workflow execution. The exact location of the data are given in the [pipeline.yml](pipeline.yml) file."
   ]
  },
  {
   "cell_type": "markdown",
   "metadata": {},
   "source": [
    "Make moment 0 contour overlays and moment 1 maps."
   ]
  },
  {
   "cell_type": "code",
   "execution_count": null,
   "metadata": {},
   "outputs": [],
   "source": [
    "#Initialise figure using DECaLS r-band image\n",
    "f = aplpy.FITSFigure(r_image_decals,figsize=(6.,4.3),dimensions=[0,1])\n",
    "\n",
    "#Display DECaLS grz image\n",
    "f.show_rgb(grz_image_decals)\n",
    "\n",
    "#Recentre and resize\n",
    "f.recenter(32.356,  -10.125, radius=1.5/60.)\n",
    "\n",
    "#Overlay HI contours\n",
    "f.show_contour(data='NW_clump'+'_mom0th.fits',dimensions=[0,1],slices=[0],\n",
    "               colors='lime',levels=numpy.arange(0.1,5.,0.05))\n",
    "\n",
    "#Add grid lines\n",
    "f.add_grid()\n",
    "f.grid.set_color('black')\n",
    "\n",
    "#Save\n",
    "if save_figs:\n",
    "    plt.savefig('Fig15-NW_clump_mom0_cont.pdf')"
   ]
  },
  {
   "cell_type": "code",
   "execution_count": null,
   "metadata": {},
   "outputs": [],
   "source": [
    "#Clip the moment 1 map\n",
    "mask_mom1(gal='NW_clump',level=0.1)\n",
    "\n",
    "#Initialise figure for clipped map\n",
    "f = aplpy.FITSFigure('tmp.fits',figsize=(6.,4.3),dimensions=[0,1])\n",
    "\n",
    "#Recentre and resize\n",
    "f.recenter(32.356,  -10.125, radius=1.5/60.)\n",
    "\n",
    "#Set colourbar scale\n",
    "f.show_colorscale(cmap='jet',vmin=3530.,vmax=3580.)\n",
    "\n",
    "#Add grid lines\n",
    "f.add_grid()\n",
    "f.grid.set_color('black')\n",
    "\n",
    "#Show and label colourbar \n",
    "f.add_colorbar()\n",
    "f.colorbar.set_axis_label_text('$V_\\mathrm{opt}$ [km/s]')\n",
    "\n",
    "#Add beam ellipse\n",
    "f.add_beam()\n",
    "f.beam.set_color('k')\n",
    "f.beam.set_corner('bottom right')\n",
    "\n",
    "#Save\n",
    "if save_figs:\n",
    "    plt.savefig('Fig15-NW_clump_mom1.pdf')"
   ]
  },
  {
   "cell_type": "code",
   "execution_count": null,
   "metadata": {},
   "outputs": [],
   "source": [
    "#Initialise figure using DECaLS r-band image\n",
    "f = aplpy.FITSFigure(r_image_decals,figsize=(6.,4.3),dimensions=[0,1])\n",
    "\n",
    "#Display DECaLS grz image\n",
    "f.show_rgb(grz_image_decals)\n",
    "\n",
    "#Recentre and resize\n",
    "f.recenter(32.463,  -10.181, radius=1.5/60.)\n",
    "\n",
    "#Overlay HI contours\n",
    "f.show_contour(data='E_clump'+'_mom0th.fits',dimensions=[0,1],slices=[0],\n",
    "               colors='lime',levels=numpy.arange(0.1,5.,0.05))\n",
    "\n",
    "#Add grid lines\n",
    "f.add_grid()\n",
    "f.grid.set_color('black')\n",
    "\n",
    "#Save\n",
    "if save_figs:\n",
    "    plt.savefig('Fig15-E_clump_mom0_cont.pdf')"
   ]
  },
  {
   "cell_type": "code",
   "execution_count": null,
   "metadata": {},
   "outputs": [],
   "source": [
    "#Clip the moment 1 map\n",
    "mask_mom1(gal='E_clump',level=0.1)\n",
    "\n",
    "#Initialise figure for clipped map\n",
    "f = aplpy.FITSFigure('tmp.fits',figsize=(6.,4.3),dimensions=[0,1])\n",
    "\n",
    "#Recentre and resize\n",
    "f.recenter(32.463,  -10.181, radius=1.5/60.)\n",
    "\n",
    "#Set colourbar scale\n",
    "f.show_colorscale(cmap='jet',vmin=3875.,vmax=3925.)\n",
    "\n",
    "#Add grid lines\n",
    "f.add_grid()\n",
    "f.grid.set_color('black')\n",
    "\n",
    "#Show and label colourbar \n",
    "f.add_colorbar()\n",
    "f.colorbar.set_axis_label_text('$V_\\mathrm{opt}$ [km/s]')\n",
    "\n",
    "#Add beam ellipse\n",
    "f.add_beam()\n",
    "f.beam.set_color('k')\n",
    "f.beam.set_corner('bottom right')\n",
    "\n",
    "#Save\n",
    "if save_figs:\n",
    "    plt.savefig('Fig15-E_clump_mom1.pdf')"
   ]
  },
  {
   "cell_type": "code",
   "execution_count": null,
   "metadata": {},
   "outputs": [],
   "source": [
    "#Initialise figure using DECaLS r-band image\n",
    "f = aplpy.FITSFigure(r_image_decals,figsize=(6.,4.3),dimensions=[0,1])\n",
    "\n",
    "#Display DECaLS grz image\n",
    "f.show_rgb(grz_image_decals)\n",
    "\n",
    "#Recentre and resize\n",
    "f.recenter(32.475,  -10.215, radius=1.5/60.)\n",
    "\n",
    "#Overlay HI contours\n",
    "f.show_contour(data='S_clump'+'_mom0th.fits',dimensions=[0,1],slices=[0],\n",
    "               colors='lime',levels=numpy.arange(0.1,5.,0.05))\n",
    "\n",
    "#Add grid lines\n",
    "f.add_grid()\n",
    "f.grid.set_color('black')\n",
    "\n",
    "#Save\n",
    "if save_figs:\n",
    "    plt.savefig('Fig15-S_clump_mom0_cont.pdf')"
   ]
  },
  {
   "cell_type": "code",
   "execution_count": null,
   "metadata": {},
   "outputs": [],
   "source": [
    "#Clip the moment 1 map\n",
    "mask_mom1(gal='S_clump',level=0.1)\n",
    "\n",
    "#Initialise figure for clipped map\n",
    "f = aplpy.FITSFigure('tmp.fits',figsize=(6.,4.3),dimensions=[0,1])\n",
    "\n",
    "#Recentre and resize\n",
    "f.recenter(32.475,  -10.215, radius=1.5/60.)\n",
    "\n",
    "#Set colourbar scale\n",
    "f.show_colorscale(cmap='jet',vmin=4050.,vmax=4100.)\n",
    "\n",
    "#Add grid lines\n",
    "f.add_grid()\n",
    "f.grid.set_color('black')\n",
    "\n",
    "#Show and label colourbar \n",
    "f.add_colorbar()\n",
    "f.colorbar.set_axis_label_text('$V_\\mathrm{opt}$ [km/s]')\n",
    "\n",
    "#Add beam ellipse\n",
    "f.add_beam()\n",
    "f.beam.set_color('k')\n",
    "f.beam.set_corner('bottom right')\n",
    "\n",
    "#Save\n",
    "if save_figs:\n",
    "    plt.savefig('Fig15-S_clump_mom1.pdf')"
   ]
  }
 ],
 "metadata": {
  "kernelspec": {
   "display_name": "Python 3",
   "language": "python",
   "name": "python3"
  },
  "language_info": {
   "codemirror_mode": {
    "name": "ipython",
    "version": 3
   },
   "file_extension": ".py",
   "mimetype": "text/x-python",
   "name": "python",
   "nbconvert_exporter": "python",
   "pygments_lexer": "ipython3",
   "version": "3.6.7"
  }
 },
 "nbformat": 4,
 "nbformat_minor": 2
}
