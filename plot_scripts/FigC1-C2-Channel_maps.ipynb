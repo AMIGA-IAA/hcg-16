{
 "cells": [
  {
   "cell_type": "code",
   "execution_count": null,
   "metadata": {},
   "outputs": [],
   "source": [
    "import matplotlib,aplpy\n",
    "from astropy.io import fits\n",
    "from general_functions import *\n",
    "import matplotlib.pyplot as plt\n",
    "from astropy.wcs import WCS"
   ]
  },
  {
   "cell_type": "code",
   "execution_count": null,
   "metadata": {},
   "outputs": [],
   "source": [
    "font = {'size'   : 14, 'family' : 'serif', 'serif' : 'cm'}\n",
    "plt.rc('font', **font)\n",
    "plt.rcParams['image.interpolation'] = 'nearest'\n",
    "plt.rcParams['lines.linewidth'] = 1\n",
    "plt.rcParams['axes.linewidth'] = 1\n",
    "\n",
    "#Set to true to save pdf versions of figures\n",
    "save_figs = True"
   ]
  },
  {
   "cell_type": "markdown",
   "metadata": {},
   "source": [
    "The files used to make the following plot are:"
   ]
  },
  {
   "cell_type": "code",
   "execution_count": null,
   "metadata": {},
   "outputs": [],
   "source": [
    "r_image_decals = 'HCG16_DECaLS_r_cutout.fits'\n",
    "grz_image_decals = 'HCG16_DECaLS_cutout.jpeg'\n",
    "cube_casa = 'HCG16_CD_rob2_MS.pbcor.fits'"
   ]
  },
  {
   "cell_type": "markdown",
   "metadata": {},
   "source": [
    "1. An $r$-band DECaLS fits image of HCG 16.\n",
    "2. A combined $grz$ jpeg image from DECaLS covering exactly the same field.\n",
    "\n",
    "These files were downloaded directly from the [DECaLS public website](http://legacysurvey.org/). The exact parameters defining the region and pixel size of these images is contained in the [pipeline.yml](pipeline.yml) file.\n",
    "\n",
    "3. The primary beam corrected, multi-scale CLEAN HI cube generated in the *imaging* step using CASA. The script [imaging.py](casa/imaging.py) contains the commands used to generate it."
   ]
  },
  {
   "cell_type": "markdown",
   "metadata": {},
   "source": [
    "First make channel maps in the group centre."
   ]
  },
  {
   "cell_type": "code",
   "execution_count": null,
   "metadata": {},
   "outputs": [],
   "source": [
    "#Load the cube\n",
    "cube,cube_ra,cube_dec,cube_vel = read_fitscube(cube_casa)\n",
    "\n",
    "#Make map for each channel\n",
    "for i in range(len(cube_vel)):\n",
    "    #Initialise background figure\n",
    "    f = aplpy.FITSFigure(r_image_decals,figsize=(12,9),dimensions=[0,1])\n",
    "\n",
    "    f.recenter(32.385,  -10.1584, height=9./60., width=12./60.)\n",
    "\n",
    "    #Aplpy cannot properly read the header and slice the cube\n",
    "    #So we have to read it with astropy and pass it to aplpy\n",
    "    hdu = fits.open(cube_casa)\n",
    "    wcs = WCS(hdu[0].header,naxis=2)\n",
    "    data = hdu[0].data[i]\n",
    "    hdu = fits.PrimaryHDU(data)\n",
    "    hdu.header.update(wcs.to_header())\n",
    "    \n",
    "    #Overlay HI channel contours\n",
    "    f.show_contour(hdu,\n",
    "                   colors=['black'],levels=numpy.array([-2])*0.45E-3,linestyle='--')\n",
    "    f.show_contour(hdu,\n",
    "                   colors=['black','blue','purple','red','darkorange'],levels=numpy.array([2,4,8,16,32])*0.45E-3)\n",
    "\n",
    "    #Set colour stretch of background image\n",
    "    f.show_colorscale(cmap='Greys',vmin=0.0001,vmax=5.,stretch='log')\n",
    "    \n",
    "    #Add grid lines\n",
    "    f.add_grid()\n",
    "    f.grid.set_color('black')\n",
    "    \n",
    "    #Add velcoity label\n",
    "    f.add_label(0.85,0.95,str(int(numpy.round(cube_vel[i],0)))+' km/s',horizontalalignment='left',\n",
    "                relative='axes', color='r', size='large')\n",
    "\n",
    "    #Save\n",
    "    if save_figs:\n",
    "        f.savefig('FigC1-HCG16_core_chnmap_'+str(i)+'.pdf')"
   ]
  },
  {
   "cell_type": "markdown",
   "metadata": {},
   "source": [
    "Now make channel maps near the SE tail."
   ]
  },
  {
   "cell_type": "code",
   "execution_count": null,
   "metadata": {},
   "outputs": [],
   "source": [
    "#Load the cube\n",
    "cube,cube_ra,cube_dec,cube_vel = read_fitscube(cube_casa)\n",
    "\n",
    "#Make map for each channel\n",
    "for i in range(len(cube_vel)):\n",
    "    #Initialise background figure\n",
    "    f = aplpy.FITSFigure(r_image_decals,figsize=(14,12),dimensions=[0,1])\n",
    "\n",
    "    f.recenter(32.52,  -10.27, height=12./60., width=14./60.)\n",
    "\n",
    "    #Aplpy cannot properly read the header and slice the cube\n",
    "    #So we have to read it with astropy and pass it to aplpy\n",
    "    hdu = fits.open(cube_casa)\n",
    "    wcs = WCS(hdu[0].header,naxis=2)\n",
    "    data = hdu[0].data[i]\n",
    "    hdu = fits.PrimaryHDU(data)\n",
    "    hdu.header.update(wcs.to_header())\n",
    "    \n",
    "    #Overlay HI channel contours\n",
    "    f.show_contour(hdu,\n",
    "                   colors=['black'],levels=numpy.array([-2])*0.45E-3,linestyle='--')\n",
    "    f.show_contour(hdu,\n",
    "                   colors=['black','blue','purple','red','darkorange'],levels=numpy.array([2,4,8,16,32])*0.45E-3)\n",
    "\n",
    "    #Set colour stretch of background image\n",
    "    f.show_colorscale(cmap='Greys',vmin=0.0001,vmax=5.,stretch='log')\n",
    "    \n",
    "    #Add grid lines\n",
    "    f.add_grid()\n",
    "    f.grid.set_color('black')\n",
    "    \n",
    "    #Add velcoity label\n",
    "    f.add_label(0.85,0.05,str(int(numpy.round(cube_vel[i],0)))+' km/s',horizontalalignment='left',\n",
    "                relative='axes', color='r', size='large')\n",
    "\n",
    "    #Save\n",
    "    if save_figs:\n",
    "        f.savefig('FigC2-HCG16_tail_chnmap_'+str(i)+'.pdf')"
   ]
  },
  {
   "cell_type": "code",
   "execution_count": null,
   "metadata": {},
   "outputs": [],
   "source": []
  }
 ],
 "metadata": {
  "kernelspec": {
   "display_name": "Python 3",
   "language": "python",
   "name": "python3"
  },
  "language_info": {
   "codemirror_mode": {
    "name": "ipython",
    "version": 3
   },
   "file_extension": ".py",
   "mimetype": "text/x-python",
   "name": "python",
   "nbconvert_exporter": "python",
   "pygments_lexer": "ipython3",
   "version": "3.6.7"
  }
 },
 "nbformat": 4,
 "nbformat_minor": 2
}
