{
 "cells": [
  {
   "cell_type": "code",
   "execution_count": null,
   "metadata": {},
   "outputs": [],
   "source": [
    "import matplotlib,aplpy\n",
    "from astropy.wcs import WCS\n",
    "from astropy.io import fits\n",
    "from general_functions import *\n",
    "import matplotlib.pyplot as plt"
   ]
  },
  {
   "cell_type": "code",
   "execution_count": null,
   "metadata": {},
   "outputs": [],
   "source": [
    "font = {'size'   : 14, 'family' : 'serif', 'serif' : 'cm'}\n",
    "plt.rc('font', **font)\n",
    "plt.rcParams['image.interpolation'] = 'nearest'\n",
    "plt.rcParams['lines.linewidth'] = 1\n",
    "plt.rcParams['axes.linewidth'] = 1\n",
    "\n",
    "#Set to true to save pdf versions of figures\n",
    "save_figs = True"
   ]
  },
  {
   "cell_type": "markdown",
   "metadata": {},
   "source": [
    "The file used to make the following plot is:"
   ]
  },
  {
   "cell_type": "code",
   "execution_count": null,
   "metadata": {},
   "outputs": [],
   "source": [
    "moment1_sofia = 'HCG16_CD_rob2_MS_ht_mom1.fits'"
   ]
  },
  {
   "cell_type": "markdown",
   "metadata": {},
   "source": [
    "1. A moment 1 map of HCG 16 generated using $5\\sigma$ mask made with SoFiA after smoothing over various kernel sizes. This file was generated in the *masking* step of the workflow. The SoFiA parameters file which makes this files is [HCG16_CD_rob2_MS.5.0s.nodil.session](sofia/HCG16_CD_rob2_MS.5.0s.nodil.session)."
   ]
  },
  {
   "cell_type": "code",
   "execution_count": null,
   "metadata": {},
   "outputs": [],
   "source": [
    "#Initialise figure\n",
    "fig = plt.figure(figsize=(8.27,2.*3))\n",
    "\n",
    "#Make axes for plot and colourbar\n",
    "ax1 = plt.subplot2grid((1, 18), (0, 0), colspan=13)\n",
    "ax2 = plt.subplot2grid((1, 18), (0, 14), colspan=1)\n",
    "\n",
    "#Remove axis tickets (aplpy win make its own)\n",
    "ax1.set_yticks([])\n",
    "ax1.set_xticks([])\n",
    "ax2.set_yticks([])\n",
    "ax2.set_xticks([])\n",
    "\n",
    "#Make moment 1 plot\n",
    "#Some trickery is required to get aplpy to accept SoFiA-generated header\n",
    "hdu = fits.open(moment1_sofia)\n",
    "wcs = WCS(hdu[0].header,naxis=2)\n",
    "data = hdu[0].data\n",
    "bmaj,bmin,bpa = hdu[0].header['bmaj'],hdu[0].header['bmin'],hdu[0].header['bpa']\n",
    "hdu = fits.PrimaryHDU(data)\n",
    "hdu.header.update(wcs.to_header())\n",
    "hdu.header['bmaj'],hdu.header['bmin'],hdu.header['bpa'] = bmaj,bmin,bpa\n",
    "mom1 = aplpy.FITSFigure(hdu, figure=fig, subplot=list(ax1.get_position(fig).bounds))\n",
    "\n",
    "#Re-centre and set size\n",
    "mom1.recenter(32.45, -10.225, radius=0.2)\n",
    "\n",
    "#Add star markers for the galaxy optical centres\n",
    "mom1.show_markers(ra_hcg16a,dec_hcg16a,marker='*',c='k',s=50,label='HCG16a')\n",
    "mom1.show_markers(ra_hcg16b,dec_hcg16b,marker='*',c='k',s=50,label='HCG16b')\n",
    "mom1.show_markers(ra_hcg16c,dec_hcg16c,marker='*',c='k',s=50,label='HCG16c')\n",
    "mom1.show_markers(ra_hcg16d,dec_hcg16d,marker='*',c='k',s=50,label='HCG16d')\n",
    "mom1.show_markers(ra_hcg16n,dec_hcg16n,marker='*',c='k',s=50,label='NGC848')\n",
    "mom1.show_markers(ra_hcg16p,dec_hcg16p,marker='*',c='k',s=50,label='PGC8210')\n",
    "\n",
    "#Display the data with the chosen colour map\n",
    "vel_max = 4050. #km/s\n",
    "vel_min = 3700. #km/s\n",
    "#These are radio velocities as that what CASA output to SoFiA\n",
    "#The colourbar scale will be converted to optical velocity below\n",
    "mom1.show_colorscale(cmap='jet',vmin=vel_min*1000.,vmax=vel_max*1000.)\n",
    "\n",
    "#Add grid lines\n",
    "mom1.add_grid()\n",
    "mom1.grid.set_color('black')\n",
    "mom1.grid.set_alpha(0.25)\n",
    "\n",
    "#Add beam ellipse\n",
    "mom1.add_beam()\n",
    "mom1.beam.set_color('k')\n",
    "mom1.beam.set_corner('bottom right')\n",
    "\n",
    "#Make the colourbar\n",
    "cmap = matplotlib.cm.jet\n",
    "norm = matplotlib.colors.Normalize(vmin=v_opt(vel_min), vmax=v_opt(vel_max))\n",
    "cbar = matplotlib.colorbar.ColorbarBase(ax2, cmap=cmap,norm=norm,orientation='vertical',label='$v_{opt}$ [km/s]')\n",
    "\n",
    "#Save\n",
    "if save_figs:\n",
    "    fig.savefig('Fig3-HCG16_mom1.pdf',bbox_inches='tight')"
   ]
  }
 ],
 "metadata": {
  "kernelspec": {
   "display_name": "Python 3",
   "language": "python",
   "name": "python3"
  },
  "language_info": {
   "codemirror_mode": {
    "name": "ipython",
    "version": 3
   },
   "file_extension": ".py",
   "mimetype": "text/x-python",
   "name": "python",
   "nbconvert_exporter": "python",
   "pygments_lexer": "ipython3",
   "version": "3.6.7"
  }
 },
 "nbformat": 4,
 "nbformat_minor": 2
}
