{
 "cells": [
  {
   "cell_type": "code",
   "execution_count": null,
   "metadata": {},
   "outputs": [],
   "source": [
    "import numpy,matplotlib,aplpy\n",
    "from general_functions import *\n",
    "import matplotlib.pyplot as plt"
   ]
  },
  {
   "cell_type": "code",
   "execution_count": null,
   "metadata": {},
   "outputs": [],
   "source": [
    "font = {'size'   : 14, 'family' : 'serif', 'serif' : 'cm'}\n",
    "plt.rc('font', **font)\n",
    "plt.rcParams['image.interpolation'] = 'nearest'\n",
    "plt.rcParams['lines.linewidth'] = 1\n",
    "plt.rcParams['axes.linewidth'] = 1\n",
    "\n",
    "#Set to true to save pdf versions of figures\n",
    "save_figs = False"
   ]
  },
  {
   "cell_type": "markdown",
   "metadata": {},
   "source": [
    "The files used to make the following plot are:"
   ]
  },
  {
   "cell_type": "code",
   "execution_count": null,
   "metadata": {},
   "outputs": [],
   "source": [
    "r_image_decals = 'HCG16_DECaLS_r_cutout.fits'\n",
    "grz_image_decals = 'HCG16_DECaLS_cutout.jpeg'"
   ]
  },
  {
   "cell_type": "markdown",
   "metadata": {},
   "source": [
    "1. An $r$-band DECaLS fits image of HCG 16.\n",
    "2. A combined $grz$ jpeg image from DECaLS covering exactly the same field.\n",
    "\n",
    "These files were downloaded directly from the [DECaLS public website](http://legacysurvey.org/). The exact parameters defining the region and pixel size of these images is contained in the [pipeline.yml](pipeline.yml) file."
   ]
  },
  {
   "cell_type": "code",
   "execution_count": null,
   "metadata": {},
   "outputs": [],
   "source": [
    "#Create aplpy figure using the co-ordinate system defined in fits image\n",
    "f = aplpy.FITSFigure(r_image_decals,figsize=(10,10),dimensions=[0,1])\n",
    "\n",
    "#Display the jpeg grz image that covers the same field as the fits image\n",
    "f.show_rgb(grz_image_decals)\n",
    "\n",
    "#Re-centre and set size\n",
    "f.recenter(32.45, -10.225, radius=0.2)\n",
    "\n",
    "#Add gridlines\n",
    "f.add_grid()\n",
    "f.grid.set_color('black')\n",
    "\n",
    "#Add label for each galaxy\n",
    "f.add_label(32.28,-10.325,'PGC 8210',horizontalalignment='right',color='yellow',weight='bold')\n",
    "f.add_label(32.55,-10.3225,'NGC 848',horizontalalignment='left',color='yellow',weight='bold')\n",
    "f.add_label(32.385,-10.115,'HCG 16a',horizontalalignment='left',color='yellow',weight='bold')\n",
    "f.add_label(32.315,-10.138,'HCG 16b',horizontalalignment='left',color='yellow',weight='bold')\n",
    "f.add_label(32.43,-10.147,'HCG 16c',horizontalalignment='right',color='yellow',weight='bold')\n",
    "f.add_label(32.443,-10.2,'HCG 16d',horizontalalignment='left',color='yellow',weight='bold')\n",
    "\n",
    "#Add scalebar\n",
    "length = 100 #kpc\n",
    "f.add_scalebar((180./numpy.pi)*length/(dist*1000.), label=str(length)+\" kpc\", color='w')\n",
    "\n",
    "#Save\n",
    "if save_figs:\n",
    "    f.savefig('Fig1-HCG16_DECaLS_image.pdf')"
   ]
  }
 ],
 "metadata": {
  "kernelspec": {
   "display_name": "Python 3",
   "language": "python",
   "name": "python3"
  },
  "language_info": {
   "codemirror_mode": {
    "name": "ipython",
    "version": 3
   },
   "file_extension": ".py",
   "mimetype": "text/x-python",
   "name": "python",
   "nbconvert_exporter": "python",
   "pygments_lexer": "ipython3",
   "version": "3.6.7"
  }
 },
 "nbformat": 4,
 "nbformat_minor": 2
}
